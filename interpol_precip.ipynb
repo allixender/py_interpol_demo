{
 "cells": [
  {
   "cell_type": "markdown",
   "metadata": {},
   "source": [
    "## Load Estonian weather service\n",
    "\n",
    "- https://www.ilmateenistus.ee/teenused/ilmainfo/ilmatikker/"
   ]
  },
  {
   "cell_type": "code",
   "execution_count": 1,
   "metadata": {},
   "outputs": [
    {
     "name": "stdout",
     "output_type": "stream",
     "text": [
      "ISO-8859-1\n",
      "text/xml\n",
      "observations\n",
      "{'timestamp': '1590156152'}\n",
      "2020-05-22 17:02:32\n"
     ]
    }
   ],
   "source": [
    "import requests\n",
    "import datetime\n",
    "import xml.etree.ElementTree as ET\n",
    "\n",
    "import pandas as pd\n",
    "\n",
    "from pandas.api.types import is_string_dtype\n",
    "from pandas.api.types import is_numeric_dtype\n",
    "\n",
    "import geopandas as gpd\n",
    "import fiona\n",
    "import numpy as np\n",
    "from shapely.geometry import Point\n",
    "\n",
    "import matplotlib.pyplot as plt\n",
    "\n",
    "%matplotlib inline\n",
    "\n",
    "req = requests.get(\"http://www.ilmateenistus.ee/ilma_andmed/xml/observations.php\")\n",
    "\n",
    "print(req.encoding)\n",
    "print(req.headers['content-type'])\n",
    "\n",
    "tree = ET.fromstring(req.content.decode(req.encoding) )\n",
    "\n",
    "print(tree.tag)\n",
    "print(tree.attrib)\n",
    "\n",
    "ts = tree.attrib['timestamp']\n",
    "print(datetime.datetime.fromtimestamp(int(ts)))"
   ]
  },
  {
   "cell_type": "code",
   "execution_count": 3,
   "metadata": {},
   "outputs": [
    {
     "name": "stdout",
     "output_type": "stream",
     "text": [
      "104\n"
     ]
    },
    {
     "data": {
      "text/html": [
       "<div>\n",
       "<style scoped>\n",
       "    .dataframe tbody tr th:only-of-type {\n",
       "        vertical-align: middle;\n",
       "    }\n",
       "\n",
       "    .dataframe tbody tr th {\n",
       "        vertical-align: top;\n",
       "    }\n",
       "\n",
       "    .dataframe thead th {\n",
       "        text-align: right;\n",
       "    }\n",
       "</style>\n",
       "<table border=\"1\" class=\"dataframe\">\n",
       "  <thead>\n",
       "    <tr style=\"text-align: right;\">\n",
       "      <th></th>\n",
       "      <th>stations</th>\n",
       "      <th>wmocode</th>\n",
       "      <th>precipitations</th>\n",
       "      <th>airtemperature</th>\n",
       "      <th>windspeed</th>\n",
       "      <th>waterlevel</th>\n",
       "      <th>watertemperature</th>\n",
       "      <th>geometry</th>\n",
       "    </tr>\n",
       "  </thead>\n",
       "  <tbody>\n",
       "    <tr>\n",
       "      <th>0</th>\n",
       "      <td>Kuressaare linn</td>\n",
       "      <td>None</td>\n",
       "      <td>NaN</td>\n",
       "      <td>15.4</td>\n",
       "      <td>NaN</td>\n",
       "      <td>NaN</td>\n",
       "      <td>NaN</td>\n",
       "      <td>POINT (22.48944444411111 58.26416666666667)</td>\n",
       "    </tr>\n",
       "    <tr>\n",
       "      <th>1</th>\n",
       "      <td>Tallinn-Harku</td>\n",
       "      <td>26038</td>\n",
       "      <td>0.0</td>\n",
       "      <td>14.0</td>\n",
       "      <td>3.0</td>\n",
       "      <td>NaN</td>\n",
       "      <td>NaN</td>\n",
       "      <td>POINT (24.60289166662428 59.39812222235513)</td>\n",
       "    </tr>\n",
       "    <tr>\n",
       "      <th>2</th>\n",
       "      <td>Pakri</td>\n",
       "      <td>26029</td>\n",
       "      <td>0.0</td>\n",
       "      <td>10.9</td>\n",
       "      <td>0.8</td>\n",
       "      <td>NaN</td>\n",
       "      <td>NaN</td>\n",
       "      <td>POINT (24.04008055547654 59.38950277719013)</td>\n",
       "    </tr>\n",
       "    <tr>\n",
       "      <th>3</th>\n",
       "      <td>Kunda</td>\n",
       "      <td>26045</td>\n",
       "      <td>0.0</td>\n",
       "      <td>9.4</td>\n",
       "      <td>2.4</td>\n",
       "      <td>NaN</td>\n",
       "      <td>9.6</td>\n",
       "      <td>POINT (26.54139722207962 59.52141111042325)</td>\n",
       "    </tr>\n",
       "    <tr>\n",
       "      <th>4</th>\n",
       "      <td>Jõhvi</td>\n",
       "      <td>26046</td>\n",
       "      <td>0.0</td>\n",
       "      <td>11.3</td>\n",
       "      <td>3.9</td>\n",
       "      <td>NaN</td>\n",
       "      <td>NaN</td>\n",
       "      <td>POINT (27.39827499992098 59.32902499979958)</td>\n",
       "    </tr>\n",
       "  </tbody>\n",
       "</table>\n",
       "</div>"
      ],
      "text/plain": [
       "          stations wmocode  precipitations  airtemperature  windspeed  \\\n",
       "0  Kuressaare linn    None             NaN            15.4        NaN   \n",
       "1    Tallinn-Harku   26038             0.0            14.0        3.0   \n",
       "2            Pakri   26029             0.0            10.9        0.8   \n",
       "3            Kunda   26045             0.0             9.4        2.4   \n",
       "4            Jõhvi   26046             0.0            11.3        3.9   \n",
       "\n",
       "   waterlevel  watertemperature                                     geometry  \n",
       "0         NaN               NaN  POINT (22.48944444411111 58.26416666666667)  \n",
       "1         NaN               NaN  POINT (24.60289166662428 59.39812222235513)  \n",
       "2         NaN               NaN  POINT (24.04008055547654 59.38950277719013)  \n",
       "3         NaN               9.6  POINT (26.54139722207962 59.52141111042325)  \n",
       "4         NaN               NaN  POINT (27.39827499992098 59.32902499979958)  "
      ]
     },
     "metadata": {},
     "output_type": "display_data"
    },
    {
     "data": {
      "text/plain": [
       "<matplotlib.axes._subplots.AxesSubplot at 0x26714e98d08>"
      ]
     },
     "execution_count": 3,
     "metadata": {},
     "output_type": "execute_result"
    },
    {
     "data": {
      "image/png": "[encoded data removed]",
      "text/plain": [
       "<Figure size 432x288 with 1 Axes>"
      ]
     },
     "metadata": {
      "needs_background": "light"
     },
     "output_type": "display_data"
    },
    {
     "data": {
      "image/png": "[encoded data removed]",
      "text/plain": [
       "<Figure size 432x288 with 2 Axes>"
      ]
     },
     "metadata": {
      "needs_background": "light"
     },
     "output_type": "display_data"
    }
   ],
   "source": [
    "data = {'stations' : [],\n",
    "        'wmocode': [],\n",
    "        'precipitations': [],\n",
    "        'airtemperature': [],\n",
    "        'windspeed': [],\n",
    "        'waterlevel': [],\n",
    "        'watertemperature': [],\n",
    "        'geometry': []\n",
    "       }\n",
    "\n",
    "\n",
    "counter = 0\n",
    "for station in tree.findall('station'):\n",
    "    counter += 1\n",
    "    \n",
    "    # print(station.tag, child.attrib)\n",
    "    \n",
    "    # < name > Virtsu < /name > – jaama nimi.\n",
    "    name = station.find('name').text\n",
    "    data['stations'].append(name)\n",
    "    # < wmocode > 26128 < /wmocode > – jaama WMO kood.\n",
    "    wmocode = station.find('wmocode').text\n",
    "    data['wmocode'].append(wmocode)\n",
    "    \n",
    "    try:\n",
    "    # < longitude > 23.51355555534363 < /longitude > – jaama asukoha koordinaat.\n",
    "        lon = station.find('longitude').text\n",
    "        # < latitude > 58.572674999100215 < /latitude > – jaama asukoha koordinaat.\n",
    "        lat = station.find('latitude').text\n",
    "        coords = Point(float(lon), float(lat))\n",
    "        data['geometry'].append(coords)\n",
    "    except ValueError as ve:\n",
    "        pass\n",
    "    \n",
    "    # < phenomenon > Light snowfall < /phenomenon > – jaamas esinev ilmastikunähtus, selle puudumisel pilvisuse aste (kui jaamas tehakse manuaalseid pilvisuse mõõtmisi). Täielik nimekiri nähtustest on allpool olevas tabelis.\n",
    "    # < visibility > 34.0 < /visibility > – nähtavus (km).\n",
    "    # < precipitations > 0 < /precipitations > – sademed (mm) viimase tunni jooksul. Lume, lörtsi, rahe ja teiste taoliste sademete hulk on samuti esitatud vee millimeetritena. 1 cm lund ~ 1 mm vett.\n",
    "    precip = station.find('precipitations').text\n",
    "    data['precipitations'].append(precip)\n",
    "    # < airpressure > 1005.4 < /airpressure > – õhurõhk (hPa). Normaalrõhk on 1013.25 hPa.\n",
    "    # < relativehumidity > 57 < /relativehumidity > – suhteline õhuniiskus (%).\n",
    "    # < airtemperature > -3.6 < /airtemperature > – õhutemperatuur (°C).\n",
    "    temp = station.find('airtemperature').text\n",
    "    data['airtemperature'].append(temp)\n",
    "    # < winddirection > 101 < /winddirection > – tuule suund (°).\n",
    "    # < windspeed > 3.2 < /windspeed > – keskmine tuule kiirus (m/s).\n",
    "    wind = station.find('windspeed').text\n",
    "    data['windspeed'].append(wind)\n",
    "    # < windspeedmax > 5.1 < /windspeedmax > – maksimaalne tuule kiirus ehk puhangud (m/s).\n",
    "    # < waterlevel > -49 < /waterlevel > – veetase (cm Kroonlinna nulli suhtes)\n",
    "    waterlevel  = station.find('waterlevel').text\n",
    "    data['waterlevel'].append(waterlevel)\n",
    "    # < waterlevel_eh2000 > -28 < waterlevel_eh2000/ > – veetase (cm Amsterdami nulli suhtes)\n",
    "    # waterlevel_eh2000 = station.find('waterlevel_eh2000').text\n",
    "    # < watertemperature > -0.2 < /watertemperature > – veetemperatuur (°C)\n",
    "    watertemp = station.find('watertemperature').text\n",
    "    data['watertemperature'].append(watertemp)\n",
    "\n",
    "print(counter)\n",
    "\n",
    "df = pd.DataFrame(data)\n",
    "\n",
    "for field in ['precipitations','airtemperature','windspeed','waterlevel','watertemperature']:\n",
    "    if field in df.columns:\n",
    "        if is_string_dtype(df[field]):\n",
    "            df[field] = df[field].astype(float)\n",
    "                \n",
    "display(df.head(5))\n",
    "\n",
    "geo_df = gpd.GeoDataFrame(df, crs=fiona.crs.from_epsg(4326), geometry='geometry')\n",
    "\n",
    "geo_df.plot()\n",
    "\n",
    "water_df = geo_df.dropna(subset=['precipitations'])\n",
    "\n",
    "water_df.plot(column='precipitations', legend=True)"
   ]
  },
  {
   "cell_type": "code",
   "execution_count": 7,
   "metadata": {},
   "outputs": [
    {
     "data": {
      "text/html": [
       "<div>\n",
       "<style scoped>\n",
       "    .dataframe tbody tr th:only-of-type {\n",
       "        vertical-align: middle;\n",
       "    }\n",
       "\n",
       "    .dataframe tbody tr th {\n",
       "        vertical-align: top;\n",
       "    }\n",
       "\n",
       "    .dataframe thead th {\n",
       "        text-align: right;\n",
       "    }\n",
       "</style>\n",
       "<table border=\"1\" class=\"dataframe\">\n",
       "  <thead>\n",
       "    <tr style=\"text-align: right;\">\n",
       "      <th></th>\n",
       "      <th>stations</th>\n",
       "      <th>wmocode</th>\n",
       "      <th>precipitations</th>\n",
       "      <th>airtemperature</th>\n",
       "      <th>windspeed</th>\n",
       "      <th>waterlevel</th>\n",
       "      <th>watertemperature</th>\n",
       "      <th>geometry</th>\n",
       "      <th>x</th>\n",
       "      <th>y</th>\n",
       "    </tr>\n",
       "  </thead>\n",
       "  <tbody>\n",
       "    <tr>\n",
       "      <th>1</th>\n",
       "      <td>Tallinn-Harku</td>\n",
       "      <td>26038</td>\n",
       "      <td>0.0</td>\n",
       "      <td>14.0</td>\n",
       "      <td>3.0</td>\n",
       "      <td>NaN</td>\n",
       "      <td>NaN</td>\n",
       "      <td>POINT (534250.544 6584618.823)</td>\n",
       "      <td>534250.544367</td>\n",
       "      <td>6.584619e+06</td>\n",
       "    </tr>\n",
       "    <tr>\n",
       "      <th>2</th>\n",
       "      <td>Pakri</td>\n",
       "      <td>26029</td>\n",
       "      <td>0.0</td>\n",
       "      <td>10.9</td>\n",
       "      <td>0.8</td>\n",
       "      <td>NaN</td>\n",
       "      <td>NaN</td>\n",
       "      <td>POINT (502277.599 6583505.345)</td>\n",
       "      <td>502277.598516</td>\n",
       "      <td>6.583505e+06</td>\n",
       "    </tr>\n",
       "    <tr>\n",
       "      <th>3</th>\n",
       "      <td>Kunda</td>\n",
       "      <td>26045</td>\n",
       "      <td>0.0</td>\n",
       "      <td>9.4</td>\n",
       "      <td>2.4</td>\n",
       "      <td>NaN</td>\n",
       "      <td>9.6</td>\n",
       "      <td>POINT (643825.046 6600924.969)</td>\n",
       "      <td>643825.045924</td>\n",
       "      <td>6.600925e+06</td>\n",
       "    </tr>\n",
       "    <tr>\n",
       "      <th>4</th>\n",
       "      <td>Jõhvi</td>\n",
       "      <td>26046</td>\n",
       "      <td>0.0</td>\n",
       "      <td>11.3</td>\n",
       "      <td>3.9</td>\n",
       "      <td>NaN</td>\n",
       "      <td>NaN</td>\n",
       "      <td>POINT (693367.350 6581666.569)</td>\n",
       "      <td>693367.350112</td>\n",
       "      <td>6.581667e+06</td>\n",
       "    </tr>\n",
       "    <tr>\n",
       "      <th>5</th>\n",
       "      <td>Narva</td>\n",
       "      <td>26058</td>\n",
       "      <td>0.0</td>\n",
       "      <td>11.0</td>\n",
       "      <td>5.1</td>\n",
       "      <td>NaN</td>\n",
       "      <td>NaN</td>\n",
       "      <td>POINT (733368.817 6590658.086)</td>\n",
       "      <td>733368.817250</td>\n",
       "      <td>6.590658e+06</td>\n",
       "    </tr>\n",
       "  </tbody>\n",
       "</table>\n",
       "</div>"
      ],
      "text/plain": [
       "        stations wmocode  precipitations  airtemperature  windspeed  \\\n",
       "1  Tallinn-Harku   26038             0.0            14.0        3.0   \n",
       "2          Pakri   26029             0.0            10.9        0.8   \n",
       "3          Kunda   26045             0.0             9.4        2.4   \n",
       "4          Jõhvi   26046             0.0            11.3        3.9   \n",
       "5          Narva   26058             0.0            11.0        5.1   \n",
       "\n",
       "   waterlevel  watertemperature                        geometry  \\\n",
       "1         NaN               NaN  POINT (534250.544 6584618.823)   \n",
       "2         NaN               NaN  POINT (502277.599 6583505.345)   \n",
       "3         NaN               9.6  POINT (643825.046 6600924.969)   \n",
       "4         NaN               NaN  POINT (693367.350 6581666.569)   \n",
       "5         NaN               NaN  POINT (733368.817 6590658.086)   \n",
       "\n",
       "               x             y  \n",
       "1  534250.544367  6.584619e+06  \n",
       "2  502277.598516  6.583505e+06  \n",
       "3  643825.045924  6.600925e+06  \n",
       "4  693367.350112  6.581667e+06  \n",
       "5  733368.817250  6.590658e+06  "
      ]
     },
     "metadata": {},
     "output_type": "display_data"
    }
   ],
   "source": [
    "geo_df_3301 = geo_df.dropna(subset=['precipitations']).to_crs(epsg=3301)\n",
    "geo_df_3301['x'] = geo_df_3301['geometry'].apply(lambda p: p.x)\n",
    "geo_df_3301['y'] = geo_df_3301['geometry'].apply(lambda p: p.y)\n",
    "display(geo_df_3301.head(5))\n",
    "\n",
    "geo_df_3301.to_file('ilmateenistus_precip_stations.shp', encoding='utf-8')"
   ]
  },
  {
   "cell_type": "markdown",
   "metadata": {},
   "source": [
    "## IDW in Python from scratch blogpost\n",
    "\n",
    "https://www.geodose.com/2019/09/creating-idw-interpolation-from-scratch-python.html\n",
    "\n",
    "- IDW Algorithm Implementation in Python\n",
    "\n",
    "  - IDW Interpolation Algorithm Based on Block Radius Sampling Point\n",
    "  - IDW Interpolation based on Minimum Number of Sampling Point"
   ]
  },
  {
   "cell_type": "code",
   "execution_count": 8,
   "metadata": {},
   "outputs": [
    {
     "data": {
      "text/plain": [
       "stations              object\n",
       "wmocode               object\n",
       "precipitations       float64\n",
       "airtemperature       float64\n",
       "windspeed            float64\n",
       "waterlevel           float64\n",
       "watertemperature     float64\n",
       "geometry            geometry\n",
       "x                    float64\n",
       "y                    float64\n",
       "dtype: object"
      ]
     },
     "execution_count": 8,
     "metadata": {},
     "output_type": "execute_result"
    }
   ],
   "source": [
    "geo_df_3301.dtypes"
   ]
  },
  {
   "cell_type": "code",
   "execution_count": 9,
   "metadata": {},
   "outputs": [],
   "source": [
    "from idw_basic import idw_rblock, idw_npoint"
   ]
  },
  {
   "cell_type": "code",
   "execution_count": 10,
   "metadata": {},
   "outputs": [
    {
     "name": "stderr",
     "output_type": "stream",
     "text": [
      "C:\\dev\\05_geodata\\articles\\soil_paper_materials\\updated_dask_codes\\idw_scripts\\idw_basic.py:46: RuntimeWarning: invalid value encountered in double_scalars\n",
      "  z_idw=np.dot(z_block,wt)/sum(w_list) # idw calculation using dot product\n"
     ]
    },
    {
     "data": {
      "text/plain": [
       "200"
      ]
     },
     "metadata": {},
     "output_type": "display_data"
    },
    {
     "data": {
      "text/plain": [
       "200"
      ]
     },
     "metadata": {},
     "output_type": "display_data"
    },
    {
     "data": {
      "text/plain": [
       "200"
      ]
     },
     "metadata": {},
     "output_type": "display_data"
    },
    {
     "data": {
      "text/plain": [
       "(200, 200)"
      ]
     },
     "metadata": {},
     "output_type": "display_data"
    }
   ],
   "source": [
    "x_idw_list1, y_idw_list1, z_head1 = idw_rblock(x=geo_df_3301['x'].astype(float).values.tolist(),\n",
    "                                            y=geo_df_3301['y'].astype(float).values.tolist(),\n",
    "                                            z=geo_df_3301['precipitations'].values.tolist(),\n",
    "                                            grid_side_length=200,\n",
    "                                            search_radius=50000,\n",
    "                                            p=1.5)\n",
    "display(len(x_idw_list1))\n",
    "display(len(y_idw_list1))\n",
    "display(len(z_head1))\n",
    "display(np.array(z_head1).shape)"
   ]
  },
  {
   "cell_type": "code",
   "execution_count": 11,
   "metadata": {},
   "outputs": [
    {
     "data": {
      "image/png": "[encoded data removed]",
      "text/plain": [
       "<Figure size 288x288 with 2 Axes>"
      ]
     },
     "metadata": {
      "needs_background": "light"
     },
     "output_type": "display_data"
    }
   ],
   "source": [
    "plt.matshow(z_head1, origin='lower')\n",
    "plt.colorbar()\n",
    "plt.show()"
   ]
  },
  {
   "cell_type": "markdown",
   "metadata": {},
   "source": [
    "_idw_npoint_ might take very long, due to ierative search radius increase to find at least n nearest neighbours"
   ]
  },
  {
   "cell_type": "code",
   "execution_count": null,
   "metadata": {},
   "outputs": [],
   "source": [
    "x_idw_list2, y_idw_list2, z_head2 = idw_npoint(x=geo_df_3301['x'].astype(float).values.tolist(),\n",
    "                                            y=geo_df_3301['y'].astype(float).values.tolist(),\n",
    "                                            z=geo_df_3301['airtemperature'].values.tolist(),\n",
    "                                            grid_side_length=100,\n",
    "                                            n_points=3,\n",
    "                                            p=1.5,\n",
    "                                              rblock_iter_distance=50000)\n",
    "display(len(x_idw_list2))\n",
    "display(len(y_idw_list2))\n",
    "display(len(z_head2))\n",
    "display(np.array(z_head2).shape)"
   ]
  },
  {
   "cell_type": "code",
   "execution_count": null,
   "metadata": {},
   "outputs": [],
   "source": [
    "plt.matshow(z_head2, origin='lower')\n",
    "plt.colorbar()\n",
    "plt.show()"
   ]
  },
  {
   "cell_type": "markdown",
   "metadata": {},
   "source": [
    "## Inverse distance weighting (IDW) in Python with a KDTree\n",
    "\n",
    "By Copyright (C) 2016 Paul Brodersen <paulbrodersen+idw@gmail.com> under GPL-3.0\n",
    "\n",
    "code: https://github.com/paulbrodersen/inverse_distance_weighting\n",
    "\n",
    "Inverse distance weighting is an interpolation method that computes the score of query points based on the scores of their k-nearest neighbours, weighted by the inverse of their distances.\n",
    "\n",
    "As each query point is evaluated using the same number of data points, this method allows for strong gradient changes in regions of high sample density while imposing smoothness in data sparse regions.\n",
    "\n",
    "Requires:\n",
    "\n",
    "- numpy\n",
    "- scikit-spatial (for cKDTree)"
   ]
  },
  {
   "cell_type": "code",
   "execution_count": 12,
   "metadata": {},
   "outputs": [],
   "source": [
    "import numpy as np\n",
    "\n",
    "import matplotlib.pyplot as plt\n",
    "%matplotlib inline\n",
    "\n",
    "import idw_knn"
   ]
  },
  {
   "cell_type": "code",
   "execution_count": 13,
   "metadata": {},
   "outputs": [
    {
     "data": {
      "text/plain": [
       "(60, 2)"
      ]
     },
     "metadata": {},
     "output_type": "display_data"
    },
    {
     "data": {
      "text/plain": [
       "(60,)"
      ]
     },
     "metadata": {},
     "output_type": "display_data"
    }
   ],
   "source": [
    "XY_obs_coords = np.vstack([geo_df_3301['x'].values, geo_df_3301['y'].values]).T\n",
    "z_arr = geo_df_3301['precipitations'].values\n",
    "\n",
    "display(XY_obs_coords.shape)\n",
    "display(z_arr.shape)\n",
    "\n",
    "# returns a function that is trained (the tree setup) for the interpolation on the grid\n",
    "idw_tree = idw_knn.tree(XY_obs_coords, z_arr)"
   ]
  },
  {
   "cell_type": "code",
   "execution_count": 14,
   "metadata": {},
   "outputs": [
    {
     "data": {
      "text/plain": [
       "361.2082532475773"
      ]
     },
     "metadata": {},
     "output_type": "display_data"
    },
    {
     "data": {
      "text/plain": [
       "214.46784264559952"
      ]
     },
     "metadata": {},
     "output_type": "display_data"
    }
   ],
   "source": [
    "all_dist_m = geo_df_3301['x'].max() - geo_df_3301['x'].min()\n",
    "dist_km_x = all_dist_m / 1000\n",
    "display(dist_km_x)\n",
    "\n",
    "all_dist_m_y = geo_df_3301['y'].max() - geo_df_3301['y'].min()\n",
    "dist_km_y = all_dist_m_y / 1000\n",
    "display(dist_km_y)"
   ]
  },
  {
   "cell_type": "code",
   "execution_count": 15,
   "metadata": {},
   "outputs": [],
   "source": [
    "# prepare grids\n",
    "# number of target interpolation grid shape along x and y axis, e.g. 150*100 raster pixels\n",
    "nx=int(dist_km_x)\n",
    "ny=int(dist_km_y)\n",
    "\n",
    "# preparing the \"output\" grid\n",
    "x_spacing = np.linspace(geo_df_3301['x'].min(), geo_df_3301['x'].max(), nx)\n",
    "y_spacing = np.linspace(geo_df_3301['y'].min(), geo_df_3301['y'].max(), ny)"
   ]
  },
  {
   "cell_type": "code",
   "execution_count": 16,
   "metadata": {},
   "outputs": [
    {
     "data": {
      "text/plain": [
       "'x_y_grid_pairs 2'"
      ]
     },
     "metadata": {},
     "output_type": "display_data"
    },
    {
     "data": {
      "text/plain": [
       "'x_y_grid_pairs_list reshaped (77254, 2)'"
      ]
     },
     "metadata": {},
     "output_type": "display_data"
    }
   ],
   "source": [
    "# preparing the target grid\n",
    "x_y_grid_pairs = np.meshgrid(x_spacing, y_spacing)\n",
    "\n",
    "x_y_grid_pairs_list = np.reshape(x_y_grid_pairs, (2, -1)).T\n",
    "\n",
    "display(f\"x_y_grid_pairs {len(x_y_grid_pairs)}\")\n",
    "display(f\"x_y_grid_pairs_list reshaped {x_y_grid_pairs_list.shape}\")"
   ]
  },
  {
   "cell_type": "code",
   "execution_count": 17,
   "metadata": {},
   "outputs": [
    {
     "data": {
      "text/plain": [
       "'z_arr_interp (77254,)'"
      ]
     },
     "metadata": {},
     "output_type": "display_data"
    }
   ],
   "source": [
    "# now interpolating onto the target grid\n",
    "z_arr_interp = idw_tree(x_y_grid_pairs_list)\n",
    "\n",
    "display(f\"z_arr_interp {z_arr_interp.shape}\")"
   ]
  },
  {
   "cell_type": "code",
   "execution_count": 19,
   "metadata": {},
   "outputs": [
    {
     "data": {
      "image/png": "[encoded data removed]",
      "text/plain": [
       "<Figure size 720x216 with 2 Axes>"
      ]
     },
     "metadata": {
      "needs_background": "light"
     },
     "output_type": "display_data"
    }
   ],
   "source": [
    "# plot\n",
    "fig, (ax1, ax2) = plt.subplots(1,2, sharex=True, sharey=True, figsize=(10,3))\n",
    "\n",
    "ax1.scatter(XY_obs_coords[:,0], XY_obs_coords[:,1], c=geo_df_3301['precipitations'], linewidths=0)\n",
    "ax1.set_title('Observation samples')\n",
    "ax2.contourf(x_spacing, y_spacing, z_arr_interp.reshape((ny,nx)))\n",
    "ax2.set_title('Interpolation')\n",
    "plt.show()"
   ]
  },
  {
   "cell_type": "code",
   "execution_count": 20,
   "metadata": {},
   "outputs": [
    {
     "data": {
      "text/plain": [
       "(77254,)"
      ]
     },
     "execution_count": 20,
     "metadata": {},
     "output_type": "execute_result"
    }
   ],
   "source": [
    "z_arr_interp.shape"
   ]
  },
  {
   "cell_type": "code",
   "execution_count": 21,
   "metadata": {},
   "outputs": [
    {
     "data": {
      "image/png": "[encoded data removed]",
      "text/plain": [
       "<Figure size 485.832x288 with 2 Axes>"
      ]
     },
     "metadata": {
      "needs_background": "light"
     },
     "output_type": "display_data"
    }
   ],
   "source": [
    "plt.matshow(z_arr_interp.reshape((ny,nx)), origin='lower')\n",
    "plt.colorbar()\n",
    "plt.show()"
   ]
  },
  {
   "cell_type": "code",
   "execution_count": 22,
   "metadata": {},
   "outputs": [
    {
     "data": {
      "text/plain": [
       "'x_spacing (361,)'"
      ]
     },
     "metadata": {},
     "output_type": "display_data"
    },
    {
     "data": {
      "text/plain": [
       "'y_spacing (214,)'"
      ]
     },
     "metadata": {},
     "output_type": "display_data"
    },
    {
     "data": {
      "text/plain": [
       "\"x_mg <class 'list'> 2 len0 <class 'numpy.ndarray'> 214 (214, 361) len1 <class 'numpy.ndarray'> 214 (214, 361)\""
      ]
     },
     "metadata": {},
     "output_type": "display_data"
    },
    {
     "data": {
      "text/plain": [
       "\"x_mg_interp_prep <class 'numpy.ndarray'> 77254 (77254, 2)\""
      ]
     },
     "metadata": {},
     "output_type": "display_data"
    }
   ],
   "source": [
    "display(f\"x_spacing {x_spacing.shape}\")\n",
    "display(f\"y_spacing {y_spacing.shape}\")\n",
    "\n",
    "# is a x_y_grid_pair a list of two ndarrays, each is fully spatial 100x150 fields, one holds the x coords the other the y coords\n",
    "x_mg = np.meshgrid(x_spacing, y_spacing)\n",
    "\n",
    "display(f\"x_mg {type(x_mg)} {len(x_mg)} len0 {type(x_mg[0])} {len(x_mg[0])} {x_mg[0].shape} len1 {type(x_mg[1])} {len(x_mg[1])} {x_mg[0].shape}\")\n",
    "\n",
    "# the yget reshaped into two long flattened arrays the joint full list of target x y pairs representing all grid locations\n",
    "x_mg_interp_prep = np.reshape(x_mg, (2, -1)).T\n",
    "\n",
    "display(f\"x_mg_interp_prep {type(x_mg_interp_prep)} {len(x_mg_interp_prep)} {x_mg_interp_prep.shape}\")\n"
   ]
  },
  {
   "cell_type": "markdown",
   "metadata": {},
   "source": [
    "## Interpolation in Python with Radial Basis Function \n",
    "\n",
    "- https://stackoverflow.com/a/3114117"
   ]
  },
  {
   "cell_type": "code",
   "execution_count": 23,
   "metadata": {},
   "outputs": [],
   "source": [
    "from scipy.interpolate import Rbf\n",
    "\n",
    "def scipy_idw(x, y, z, xi, yi):\n",
    "    interp = Rbf(x, y, z, function='linear')\n",
    "    return interp(xi, yi)\n",
    "\n",
    "\n",
    "def plot(x,y,z,grid):\n",
    "    plt.figure()\n",
    "    plt.imshow(grid, extent=(x.min(), x.max(), y.max(), y.min()))\n",
    "    # plt.hold(True)\n",
    "    plt.scatter(x,y,c=z)\n",
    "    plt.colorbar()"
   ]
  },
  {
   "cell_type": "code",
   "execution_count": 24,
   "metadata": {},
   "outputs": [],
   "source": [
    "# nx, ny = 50, 50\n",
    "\n",
    "x=geo_df_3301['x'].astype(float).values\n",
    "y=geo_df_3301['y'].astype(float).values\n",
    "z=geo_df_3301['precipitations'].values\n",
    "\n",
    "xi = np.linspace(x.min(), x.max(), nx)\n",
    "yi = np.linspace(y.min(), y.max(), ny)\n",
    "xi, yi = np.meshgrid(xi, yi)\n",
    "xi, yi = xi.flatten(), yi.flatten()\n",
    "\n",
    "grid2 = scipy_idw(x,y,z,xi,yi)\n",
    "grid2 = grid2.reshape((ny, nx))"
   ]
  },
  {
   "cell_type": "code",
   "execution_count": 25,
   "metadata": {},
   "outputs": [
    {
     "data": {
      "text/plain": [
       "Text(0.5, 1.0, \"Scipy's Rbf with function=linear\")"
      ]
     },
     "execution_count": 25,
     "metadata": {},
     "output_type": "execute_result"
    },
    {
     "data": {
      "image/png": "[encoded data removed]",
      "text/plain": [
       "<Figure size 432x288 with 2 Axes>"
      ]
     },
     "metadata": {
      "needs_background": "light"
     },
     "output_type": "display_data"
    }
   ],
   "source": [
    "plot(x,y,z,grid2)\n",
    "plt.title(\"Scipy's Rbf with function=linear\")"
   ]
  },
  {
   "cell_type": "code",
   "execution_count": 26,
   "metadata": {},
   "outputs": [
    {
     "data": {
      "image/png": "[encoded data removed]",
      "text/plain": [
       "<Figure size 720x216 with 3 Axes>"
      ]
     },
     "metadata": {
      "needs_background": "light"
     },
     "output_type": "display_data"
    }
   ],
   "source": [
    "# plot\n",
    "fig, (ax1, ax2, ax3) = plt.subplots(1,3, sharex=True, sharey=True, figsize=(10,3))\n",
    "\n",
    "ax1.scatter(x,y, c=z, linewidths=0)\n",
    "ax1.set_title('Observation samples')\n",
    "ax2.contourf(np.linspace(x.min(), x.max(), nx), np.linspace(y.min(), y.max(), ny), grid2)\n",
    "ax2.set_title('Interpolation contours')\n",
    "\n",
    "ax3.imshow(grid2, extent=(x.min(), x.max(), y.max(), y.min()))\n",
    "ax3.set_title('RBF pixels')\n",
    "\n",
    "plt.show()"
   ]
  },
  {
   "cell_type": "markdown",
   "metadata": {},
   "source": [
    "## surface/contour/mesh plotting of interpolated grids\n",
    "\n",
    "https://matplotlib.org/3.1.0/gallery/images_contours_and_fields/pcolormesh_levels.html#sphx-glr-gallery-images-contours-and-fields-pcolormesh-levels-py"
   ]
  },
  {
   "cell_type": "code",
   "execution_count": 27,
   "metadata": {},
   "outputs": [],
   "source": [
    "from matplotlib.colors import BoundaryNorm\n",
    "from matplotlib.ticker import MaxNLocator\n",
    "from matplotlib import cm"
   ]
  },
  {
   "cell_type": "code",
   "execution_count": 28,
   "metadata": {},
   "outputs": [],
   "source": [
    "nbins=15\n",
    "\n",
    "levels = MaxNLocator(nbins=nbins).tick_values(z_arr_interp.min(), z_arr_interp.max())\n",
    "\n",
    "# pick the desired colormap, sensible levels, and define a normalization\n",
    "# instance which takes data values and translates those into levels.\n",
    "cmap = plt.get_cmap('viridis')\n",
    "norm = BoundaryNorm(levels, ncolors=cmap.N, clip=True)"
   ]
  },
  {
   "cell_type": "code",
   "execution_count": 29,
   "metadata": {},
   "outputs": [
    {
     "data": {
      "image/png": "[encoded data removed]",
      "text/plain": [
       "<Figure size 720x216 with 4 Axes>"
      ]
     },
     "metadata": {
      "needs_background": "light"
     },
     "output_type": "display_data"
    }
   ],
   "source": [
    "# plot\n",
    "fig, (ax1, ax2) = plt.subplots(1,2, sharex=True, sharey=True, figsize=(10,3))\n",
    "\n",
    "im = ax1.pcolormesh(x_idw_list1, y_idw_list1, np.array(z_head1), cmap=cmap, norm=norm)\n",
    "fig.colorbar(im, ax=ax1)\n",
    "ax1.set_title('pcolormesh with normalisation (nbins={})'.format(nbins))\n",
    "\n",
    "im2 = ax2.pcolormesh(x_idw_list1, y_idw_list1, np.array(z_head1), cmap=cm.viridis)\n",
    "fig.colorbar(im2, ax=ax2)\n",
    "ax2.set_title('pcolormesh without explicit normalisation')\n",
    "plt.show()"
   ]
  },
  {
   "cell_type": "code",
   "execution_count": 30,
   "metadata": {},
   "outputs": [
    {
     "data": {
      "image/png": "[encoded data removed]",
      "text/plain": [
       "<Figure size 720x216 with 4 Axes>"
      ]
     },
     "metadata": {
      "needs_background": "light"
     },
     "output_type": "display_data"
    }
   ],
   "source": [
    "# plot\n",
    "fig, (ax1, ax2) = plt.subplots(1,2, sharex=True, sharey=True, figsize=(10,3))\n",
    "\n",
    "cf = ax1.contourf(x_spacing, y_spacing, z_arr_interp.reshape((ny,nx)), levels=levels, cmap=cmap)\n",
    "fig.colorbar(cf, ax=ax1)\n",
    "ax1.set_title('contourf with {} levels'.format(nbins))\n",
    "\n",
    "cf2 = ax2.contourf(x_spacing, y_spacing, z_arr_interp.reshape((ny,nx)), cmap=cm.viridis)\n",
    "fig.colorbar(cf2, ax=ax2)\n",
    "ax2.set_title('contourf with defaut levels')\n",
    "plt.show()"
   ]
  },
  {
   "cell_type": "code",
   "execution_count": 31,
   "metadata": {},
   "outputs": [
    {
     "data": {
      "text/plain": [
       "(214, 361)"
      ]
     },
     "execution_count": 31,
     "metadata": {},
     "output_type": "execute_result"
    }
   ],
   "source": [
    "z_arr_interp.reshape((ny,nx)).shape"
   ]
  },
  {
   "cell_type": "markdown",
   "metadata": {},
   "source": [
    "## Writing interpolated array to a raster file\n",
    "\n",
    "- GeoTiff raster with GDAL Python\n"
   ]
  },
  {
   "cell_type": "code",
   "execution_count": 33,
   "metadata": {},
   "outputs": [],
   "source": [
    "from fiona.crs import from_epsg\n",
    "import pyproj\n",
    "import osgeo.osr\n",
    "\n",
    "import gdal\n",
    "gdal.UseExceptions()\n",
    "\n",
    "# wkt_projection = CRS(\"EPSG:3301\") -> techniclly should tae crs from the geodataframe\n",
    "crs = pyproj.Proj(from_epsg(3301))\n",
    "\n",
    "srs = osgeo.osr.SpatialReference()\n",
    "srs.ImportFromProj4(crs.srs)\n",
    "wkt_projection = srs.ExportToWkt()"
   ]
  },
  {
   "cell_type": "code",
   "execution_count": 36,
   "metadata": {},
   "outputs": [],
   "source": [
    "#\n",
    "# KDTree  z_arr_interp\n",
    "#\n",
    "ncols = nx\n",
    "nrows = ny\n",
    "\n",
    "cell_unit_sizeX = (geo_df_3301['x'].max() - geo_df_3301['x'].min()) / ncols\n",
    "cell_unit_sizeY = (geo_df_3301['y'].max() - geo_df_3301['y'].min()) / nrows\n",
    "\n",
    "testnp = z_arr_interp.reshape((ny,nx))\n",
    "\n",
    "xllcorner = geo_df_3301['x'].min()\n",
    "xulcorner = geo_df_3301['x'].min()\n",
    "\n",
    "yllcorner = geo_df_3301['y'].min()\n",
    "yulcorner = geo_df_3301['y'].max()\n",
    "\n",
    "nodata_value = -9999\n",
    "\n",
    "driver = gdal.GetDriverByName(\"GTiff\")\n",
    "\n",
    "dataset = driver.Create(\"kdtree_precip_rasterout1.tif\", ncols, nrows, 1, gdal.GDT_Float32 )\n",
    "\n",
    "dataset.SetProjection(wkt_projection)\n",
    "dataset.SetGeoTransform((xulcorner,cell_unit_sizeX,0,yulcorner,0,-cell_unit_sizeY))\n",
    "\n",
    "dataset.GetRasterBand(1).WriteArray(np.flipud(testnp))\n",
    "\n",
    "band = dataset.GetRasterBand(1)\n",
    "band.SetNoDataValue(nodata_value)\n",
    "\n",
    "dataset.FlushCache()\n",
    "\n",
    "# dereference band to avoid gotcha described previously\n",
    "band = None\n",
    "dataset = None"
   ]
  },
  {
   "cell_type": "code",
   "execution_count": 33,
   "metadata": {},
   "outputs": [],
   "source": [
    "#\n",
    "# RBF  grid2\n",
    "#\n",
    "testnp = grid2.reshape((ny,nx))\n",
    "\n",
    "ncols = nx\n",
    "nrows = ny\n",
    "\n",
    "cell_unit_sizeX = (geo_df_3301['x'].max() - geo_df_3301['x'].min()) / ncols\n",
    "cell_unit_sizeY = (geo_df_3301['y'].max() - geo_df_3301['y'].min()) / nrows\n",
    "\n",
    "xllcorner = geo_df_3301['x'].min()\n",
    "xulcorner = geo_df_3301['x'].min()\n",
    "\n",
    "yllcorner = geo_df_3301['y'].min()\n",
    "yulcorner = geo_df_3301['y'].max()\n",
    "\n",
    "cellsize = 10 * np.round(cell_unit_size, 4)\n",
    "nodata_value = -9999\n",
    "\n",
    "cellsize = cell_unit_size\n",
    "driver = gdal.GetDriverByName(\"GTiff\")\n",
    "\n",
    "dataset = driver.Create(\"rbf_rasterout1.tif\", ncols, nrows, 1, gdal.GDT_Float32 )\n",
    "\n",
    "dataset.SetProjection(wkt_projection)\n",
    "dataset.SetGeoTransform((xulcorner,cell_unit_sizeX,0,yulcorner,0,-cell_unit_sizeY))\n",
    "\n",
    "dataset.GetRasterBand(1).WriteArray(np.flipud(testnp))\n",
    "\n",
    "band = dataset.GetRasterBand(1)\n",
    "band.SetNoDataValue(nodata_value)\n",
    "\n",
    "dataset.FlushCache()\n",
    "\n",
    "# dereference band to avoid gotcha described previously\n",
    "band = None\n",
    "dataset = None"
   ]
  },
  {
   "cell_type": "code",
   "execution_count": 16,
   "metadata": {},
   "outputs": [],
   "source": [
    "ncols = 200\n",
    "nrows = 200\n",
    "\n",
    "cell_unit_sizeX = (geo_df_3301['x'].max() - geo_df_3301['x'].min()) / ncols\n",
    "cell_unit_sizeY = (geo_df_3301['y'].max() - geo_df_3301['y'].min()) / nrows\n",
    "\n",
    "xllcorner = geo_df_3301['x'].min()\n",
    "xulcorner = geo_df_3301['x'].min()\n",
    "\n",
    "yllcorner = geo_df_3301['y'].min()\n",
    "yulcorner = geo_df_3301['y'].max()\n",
    "\n",
    "nodata_value = -9999\n",
    "\n",
    "cellsize = cell_unit_size\n",
    "driver = gdal.GetDriverByName(\"GTiff\")\n",
    "\n",
    "# dataset = driver.Create(\"%s\"%(OutputFile), NROWS, NCOLS, 1, gdal.GDT_Float32 )\n",
    "dataset = driver.Create(\"idw_basic_rasterout1.tif\", ncols, nrows, 1, gdal.GDT_Float32 )\n",
    "\n",
    "dataset.SetProjection(wkt_projection)\n",
    "dataset.SetGeoTransform((xulcorner,cell_unit_sizeX,0,yulcorner,0,-cell_unit_sizeY))\n",
    "\n",
    "dataset.GetRasterBand(1).WriteArray(np.flipud(np.array(z_head1)))\n",
    "\n",
    "band = dataset.GetRasterBand(1)\n",
    "band.SetNoDataValue(nodata_value)\n",
    "\n",
    "dataset.FlushCache()\n",
    "\n",
    "# dereference band to avoid gotcha described previously\n",
    "band = None\n",
    "dataset = None"
   ]
  },
  {
   "cell_type": "code",
   "execution_count": null,
   "metadata": {},
   "outputs": [],
   "source": []
  }
 ],
 "metadata": {
  "kernelspec": {
   "display_name": "Py37 (daskgeo2020a)",
   "language": "python",
   "name": "daskgeo2020a"
  },
  "language_info": {
   "codemirror_mode": {
    "name": "ipython",
    "version": 3
   },
   "file_extension": ".py",
   "mimetype": "text/x-python",
   "name": "python",
   "nbconvert_exporter": "python",
   "pygments_lexer": "ipython3",
   "version": "3.7.6"
  }
 },
 "nbformat": 4,
 "nbformat_minor": 4
}
